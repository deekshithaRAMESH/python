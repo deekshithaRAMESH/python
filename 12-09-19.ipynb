{
 "cells": [
  {
   "cell_type": "markdown",
   "metadata": {},
   "source": [
    "## divisible"
   ]
  },
  {
   "cell_type": "code",
   "execution_count": 8,
   "metadata": {},
   "outputs": [
    {
     "name": "stdout",
     "output_type": "stream",
     "text": [
      "enter a lb1\n",
      "enter a ub80\n",
      "6\n",
      "12\n",
      "18\n",
      "24\n",
      "30\n",
      "36\n",
      "42\n",
      "48\n",
      "54\n",
      "60\n",
      "66\n",
      "72\n",
      "78\n"
     ]
    }
   ],
   "source": [
    "lb=int(input(\"enter a lb\"))\n",
    "ub=int(input(\"enter a ub\"))\n",
    "def finddivisible(n):\n",
    "        if n%6==0 and 100/n!=0:\n",
    "            print(n)\n",
    "for a in range(lb,ub+1):\n",
    "    finddivisible(a)\n",
    "            "
   ]
  },
  {
   "cell_type": "markdown",
   "metadata": {},
   "source": [
    "## cubes"
   ]
  },
  {
   "cell_type": "code",
   "execution_count": 3,
   "metadata": {},
   "outputs": [
    {
     "name": "stdout",
     "output_type": "stream",
     "text": [
      "enter a lb2\n",
      "enter a ub4\n",
      "36\n"
     ]
    }
   ],
   "source": [
    "lb=int(input(\"enter a lb\"))\n",
    "ub=int(input(\"enter a ub\"))\n",
    "def avgofcube(x,y):\n",
    "    c=0\n",
    "    e=0\n",
    "    for i in range(lb,ub+1):\n",
    "        if i%2==0:\n",
    "            c=c+(i**3)\n",
    "            e+=1\n",
    "    print(c//e)\n",
    "avgofcube(lb,ub)        "
   ]
  },
  {
   "cell_type": "code",
   "execution_count": 5,
   "metadata": {},
   "outputs": [
    {
     "data": {
      "text/plain": [
       "(91, 36)"
      ]
     },
     "execution_count": 5,
     "metadata": {},
     "output_type": "execute_result"
    }
   ],
   "source": [
    "d={\"a\":65,\"c\":82,\"f\":36,\"d\":72,\"e\":91}\n",
    "m=max(d.values())\n",
    "n=min(d.values())\n",
    "m,n"
   ]
  },
  {
   "cell_type": "code",
   "execution_count": 6,
   "metadata": {},
   "outputs": [
    {
     "data": {
      "text/plain": [
       "['__class__',\n",
       " '__contains__',\n",
       " '__delattr__',\n",
       " '__delitem__',\n",
       " '__dir__',\n",
       " '__doc__',\n",
       " '__eq__',\n",
       " '__format__',\n",
       " '__ge__',\n",
       " '__getattribute__',\n",
       " '__getitem__',\n",
       " '__gt__',\n",
       " '__hash__',\n",
       " '__init__',\n",
       " '__init_subclass__',\n",
       " '__iter__',\n",
       " '__le__',\n",
       " '__len__',\n",
       " '__lt__',\n",
       " '__ne__',\n",
       " '__new__',\n",
       " '__reduce__',\n",
       " '__reduce_ex__',\n",
       " '__repr__',\n",
       " '__setattr__',\n",
       " '__setitem__',\n",
       " '__sizeof__',\n",
       " '__str__',\n",
       " '__subclasshook__',\n",
       " 'clear',\n",
       " 'copy',\n",
       " 'fromkeys',\n",
       " 'get',\n",
       " 'items',\n",
       " 'keys',\n",
       " 'pop',\n",
       " 'popitem',\n",
       " 'setdefault',\n",
       " 'update',\n",
       " 'values']"
      ]
     },
     "execution_count": 6,
     "metadata": {},
     "output_type": "execute_result"
    }
   ],
   "source": [
    "dir(dict)"
   ]
  },
  {
   "cell_type": "code",
   "execution_count": 15,
   "metadata": {},
   "outputs": [
    {
     "data": {
      "text/plain": [
       "{'a': 65, 'c': 82, 'f': 36, 'd': 72, 'e': 91}"
      ]
     },
     "execution_count": 15,
     "metadata": {},
     "output_type": "execute_result"
    }
   ],
   "source": [
    "d={\"a\":65,\"c\":82,\"f\":36,\"d\":72,\"e\":91}\n",
    "t=d.copy()\n",
    "t.pop(\"f\")\n",
    "d"
   ]
  },
  {
   "cell_type": "code",
   "execution_count": 16,
   "metadata": {},
   "outputs": [
    {
     "name": "stdout",
     "output_type": "stream",
     "text": [
      "a\n",
      "c\n",
      "f\n",
      "d\n",
      "e\n"
     ]
    }
   ],
   "source": [
    "d={\"a\":65,\"c\":82,\"f\":36,\"d\":72,\"e\":91}\n",
    "for i in d:\n",
    "    print(i)"
   ]
  },
  {
   "cell_type": "code",
   "execution_count": 18,
   "metadata": {},
   "outputs": [
    {
     "name": "stdout",
     "output_type": "stream",
     "text": [
      "65\n",
      "82\n",
      "36\n",
      "72\n",
      "91\n"
     ]
    }
   ],
   "source": [
    "d={\"a\":65,\"c\":82,\"f\":36,\"d\":72,\"e\":91}\n",
    "for i in d.values():\n",
    "    print(i)"
   ]
  },
  {
   "cell_type": "code",
   "execution_count": 19,
   "metadata": {},
   "outputs": [
    {
     "name": "stdout",
     "output_type": "stream",
     "text": [
      "('a', 65)\n",
      "('c', 82)\n",
      "('f', 36)\n",
      "('d', 72)\n",
      "('e', 91)\n"
     ]
    }
   ],
   "source": [
    "d={\"a\":65,\"c\":82,\"f\":36,\"d\":72,\"e\":91}\n",
    "for i in d.items():\n",
    "                print(i)"
   ]
  },
  {
   "cell_type": "code",
   "execution_count": 20,
   "metadata": {},
   "outputs": [
    {
     "name": "stdout",
     "output_type": "stream",
     "text": [
      "a 65\n",
      "c 82\n",
      "f 36\n",
      "d 72\n",
      "e 91\n"
     ]
    }
   ],
   "source": [
    "d={\"a\":65,\"c\":82,\"f\":36,\"d\":72,\"e\":91}\n",
    "for (v,p) in d.items():     \n",
    "    print(v,p)\n",
    "    \n",
    "                "
   ]
  },
  {
   "cell_type": "code",
   "execution_count": 22,
   "metadata": {},
   "outputs": [
    {
     "name": "stdout",
     "output_type": "stream",
     "text": [
      "a 65\n",
      "c 82\n",
      "f 36\n",
      "d 72\n",
      "e 91\n",
      "a 65\n",
      "c 82\n",
      "f 36\n",
      "d 72\n",
      "e 91\n",
      "a 65\n",
      "c 82\n",
      "f 36\n",
      "d 72\n",
      "e 91\n"
     ]
    }
   ],
   "source": [
    "d={\"a\":65,\"c\":82,\"f\":36,\"d\":72,\"e\":91}\n",
    "i=1\n",
    "while i<4:\n",
    "    for j in d:\n",
    "        print(j,d[j])\n",
    "    i=i+1    \n"
   ]
  },
  {
   "cell_type": "code",
   "execution_count": 70,
   "metadata": {},
   "outputs": [
    {
     "name": "stdout",
     "output_type": "stream",
     "text": [
      "e 91 first\n",
      "c 82 first\n",
      "d 72 first\n"
     ]
    }
   ],
   "source": [
    "d={\"a\":65,\"c\":82,\"f\":36,\"d\":72,\"e\":91}\n",
    "t=d.copy()\n",
    "i=1\n",
    "while i<=3:\n",
    "    m=max(t.values())   \n",
    "    for j in d:\n",
    "        if d[j]==m:\n",
    "            print(j, d[j],\"first\")\n",
    "            t.pop(j)\n",
    "    i=i+1       \n",
    " "
   ]
  },
  {
   "cell_type": "code",
   "execution_count": 43,
   "metadata": {},
   "outputs": [
    {
     "name": "stdout",
     "output_type": "stream",
     "text": [
      "e first\n",
      "c second\n",
      "d third\n"
     ]
    },
    {
     "data": {
      "text/plain": [
       "72"
      ]
     },
     "execution_count": 43,
     "metadata": {},
     "output_type": "execute_result"
    }
   ],
   "source": [
    "d={\"a\":65,\"c\":82,\"f\":36,\"d\":72,\"e\":91}\n",
    "m=max(d.values())\n",
    "k=\"\"\n",
    "for i in d:\n",
    "    if d[i]==m:\n",
    "        print(i,\"first\")\n",
    "        k=i\n",
    "d.pop(k) \n",
    "m=max(d.values())\n",
    "k=\"\"\n",
    "for i in d:\n",
    "    if d[i]==m:\n",
    "        print(i,\"second\")\n",
    "        k=i\n",
    "d.pop(k) \n",
    "m=max(d.values())\n",
    "k=\"\"\n",
    "for i in d:\n",
    "    if d[i]==m:\n",
    "        print(i,\"third\")\n",
    "        k=i\n",
    "d.pop(k) \n"
   ]
  },
  {
   "cell_type": "code",
   "execution_count": null,
   "metadata": {},
   "outputs": [],
   "source": []
  }
 ],
 "metadata": {
  "kernelspec": {
   "display_name": "Python 3",
   "language": "python",
   "name": "python3"
  },
  "language_info": {
   "codemirror_mode": {
    "name": "ipython",
    "version": 3
   },
   "file_extension": ".py",
   "mimetype": "text/x-python",
   "name": "python",
   "nbconvert_exporter": "python",
   "pygments_lexer": "ipython3",
   "version": "3.7.3"
  }
 },
 "nbformat": 4,
 "nbformat_minor": 2
}
