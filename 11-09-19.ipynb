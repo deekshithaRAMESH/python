{
 "cells": [
  {
   "cell_type": "markdown",
   "metadata": {},
   "source": [
    "## perfect number"
   ]
  },
  {
   "cell_type": "code",
   "execution_count": 16,
   "metadata": {
    "scrolled": true
   },
   "outputs": [
    {
     "name": "stdout",
     "output_type": "stream",
     "text": [
      " enter a no 121\n",
      "perfect num\n"
     ]
    }
   ],
   "source": [
    "a=(input(\" enter a no \"))\n",
    "r=a[::-1]\n",
    "if r==a:\n",
    "    print(\"perfect num\")\n",
    "else:\n",
    "    print(\"not perfect num\")\n"
   ]
  },
  {
   "cell_type": "code",
   "execution_count": 3,
   "metadata": {},
   "outputs": [
    {
     "name": "stdout",
     "output_type": "stream",
     "text": [
      "77\n",
      "1\n",
      "7\n",
      "11\n"
     ]
    }
   ],
   "source": [
    "n=int(input())\n",
    "def findfactor(n):\n",
    "    for i in range(1,n):\n",
    "        if n%i==0:\n",
    "            print(i)\n",
    "findfactor(n)            "
   ]
  },
  {
   "cell_type": "code",
   "execution_count": 15,
   "metadata": {},
   "outputs": [
    {
     "name": "stdout",
     "output_type": "stream",
     "text": [
      "enter a lb1\n",
      "enter a ub100\n",
      "6\n",
      "28\n"
     ]
    }
   ],
   "source": [
    "# n=int(input())\n",
    "lb=int(input(\"enter a lb\"))\n",
    "ub=int(input(\"enter a ub\"))\n",
    "s=0\n",
    "def findfactor(n,s):\n",
    "    for i in range(1,n):\n",
    "        if n%i==0:\n",
    "            s=s+i\n",
    "    if s==n:\n",
    "        print(n)\n",
    "for k in range(lb,ub+1):\n",
    "    findfactor(k,s)       "
   ]
  },
  {
   "cell_type": "markdown",
   "metadata": {},
   "source": [
    "## special number"
   ]
  },
  {
   "cell_type": "code",
   "execution_count": 6,
   "metadata": {},
   "outputs": [
    {
     "name": "stdout",
     "output_type": "stream",
     "text": [
      "28\n",
      "not special num\n"
     ]
    }
   ],
   "source": [
    "n=int(input())\n",
    "a=int(n%10)\n",
    "b=int(n/10)\n",
    "c=(a*b)\n",
    "d=(a+b)\n",
    "e=int(c+d)\n",
    "if e==n:\n",
    "    print(\"special num\")\n",
    "else:\n",
    "    print(\"not special num\")"
   ]
  },
  {
   "cell_type": "code",
   "execution_count": 2,
   "metadata": {},
   "outputs": [
    {
     "name": "stdout",
     "output_type": "stream",
     "text": [
      "29\n",
      "special num\n"
     ]
    }
   ],
   "source": [
    "n=input()\n",
    "a=0\n",
    "b=1\n",
    "for i in n:\n",
    "    a=a+int(i)\n",
    "    b=b*int(i)\n",
    "res=a+b\n",
    "if res==int(n):\n",
    "    print(\"special num\")\n",
    "else:\n",
    "    print(\"not special\")"
   ]
  },
  {
   "cell_type": "markdown",
   "metadata": {},
   "source": [
    "## prime num in given range"
   ]
  },
  {
   "cell_type": "code",
   "execution_count": 30,
   "metadata": {},
   "outputs": [
    {
     "name": "stdout",
     "output_type": "stream",
     "text": [
      "enter a lb20\n",
      "enter a ub30\n",
      "23\n",
      "29\n"
     ]
    }
   ],
   "source": [
    "lb=int(input(\"enter a lb\"))\n",
    "ub=int(input(\"enter a ub\"))\n",
    "s=1\n",
    "def findprime(n,s):\n",
    "    for i in range(1,n):\n",
    "        if n%i==0:\n",
    "            s=s+i\n",
    "    if s==2:\n",
    "        print(n)\n",
    "for k in range(lb,ub+1):\n",
    "    findprime(k,s)        \n",
    "\n"
   ]
  }
 ],
 "metadata": {
  "kernelspec": {
   "display_name": "Python 3",
   "language": "python",
   "name": "python3"
  },
  "language_info": {
   "codemirror_mode": {
    "name": "ipython",
    "version": 3
   },
   "file_extension": ".py",
   "mimetype": "text/x-python",
   "name": "python",
   "nbconvert_exporter": "python",
   "pygments_lexer": "ipython3",
   "version": "3.7.3"
  }
 },
 "nbformat": 4,
 "nbformat_minor": 2
}
